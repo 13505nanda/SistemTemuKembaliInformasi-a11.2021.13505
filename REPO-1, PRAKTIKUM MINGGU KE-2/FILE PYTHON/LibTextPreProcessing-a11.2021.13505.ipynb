{
 "cells": [
  {
   "cell_type": "code",
   "execution_count": 1,
   "id": "5d8dad05",
   "metadata": {
    "scrolled": true
   },
   "outputs": [
    {
     "data": {
      "text/plain": [
       "{'url': 'https://news.detik.com/berita-jawa-timur/d-3998874/ini-pesan-kapolda-jatim-jelang-may-day-jadikan-fun-day',\n",
       " 'date': '2018-05-01 00:01:00',\n",
       " 'title': 'Ini Pesan Kapolda Jatim Jelang May Day: Jadikan Fun Day',\n",
       " 'content': 'Surabaya -\\nMenjelang perayaan Hari Buruh atau May Day, Kapolda Jatim Irjen Pol Machfud Arifin mengimbau semua pihak untuk merayakan May Day dengan suasana yang lebih menyenangkan atau Fun Day. \"Kita sudah ada dialog mudah-mudahan May Day menjadi Fun Day,\" ujar Machfud saat Cangkrukan bersama pengusaha tempat hiburan se-Jatim di Rumah Dinas Kapolda Jalan Bengawan Surabaya, Senin (30/4/2018). Fun Day ini, tambah Machfud harus disambut dengan suka cita lantaran setiap pekerja mendapatkan jatah hari libur. Menurutnya, perayaan Hari Buruh tak harus dijalani dengan demonstrasi dan aksi saja, namun juga dilakoni dengan konsep baru yang lebih menyenangkan. Untuk Jawa Timur, Machfud mengatakan akan ada konsep baru yang berbeda. \"Di Jatim ini sudah ada konsep dalam menghadapi May Day,\" tambahnya. Konsep ini, menurut Machfud yakni merayakan Hari Buruh tanpa emosi dan kekerasan, namun dengan aman, damai, dan suka cita. Kabarnya, lebih dari seribu buruh akan melakukan teatrikal di sela aksi mereka. Kendati dilakukan dengan damai, Machfud menambahkan Pemerintah Provinsi Jatim tetap akan mengusahakan apa saja tuntutan dari para pekerja. Untuk itu, dia menginstruksikan massa agar lebih tertib. \"Nanti tuntutan tetap diakomodir, dan disampaikan pemprov ke pusat,\"imbuhnya. Ribuan massa yang tergabung dalam serikat pekerja, besok akan menggelar aksi di depan Kantor Gubernur Jatim. Aksi ini diikuti ribuan pekerja perwakilan dari beberapa daerah di Jatim. (bdh/bdh)'}"
      ]
     },
     "execution_count": 1,
     "metadata": {},
     "output_type": "execute_result"
    }
   ],
   "source": [
    "import json\n",
    "\n",
    "file_path = 'D:/FileCoding/PythonJupyterNotebook/SISTEM TEMU KEMBALI INFORMASI/DATASET/Dataset-Artikel-master/sample/json/2018/05/01/00/1525132860000.detik-news.d0d7c1aa99.json'\n",
    "\n",
    "with open(file_path, 'r') as json_file:\n",
    "    data = json.load(json_file)\n",
    "\n",
    "data"
   ]
  },
  {
   "cell_type": "code",
   "execution_count": 2,
   "id": "fcd8bb49",
   "metadata": {
    "scrolled": true
   },
   "outputs": [
    {
     "data": {
      "text/plain": [
       "'surabaya -\\nmenjelang perayaan hari buruh atau may day, kapolda jatim irjen pol machfud arifin mengimbau semua pihak untuk merayakan may day dengan suasana yang lebih menyenangkan atau fun day. \"kita sudah ada dialog mudah-mudahan may day menjadi fun day,\" ujar machfud saat cangkrukan bersama pengusaha tempat hiburan se-jatim di rumah dinas kapolda jalan bengawan surabaya, senin (30/4/2018). fun day ini, tambah machfud harus disambut dengan suka cita lantaran setiap pekerja mendapatkan jatah hari libur. menurutnya, perayaan hari buruh tak harus dijalani dengan demonstrasi dan aksi saja, namun juga dilakoni dengan konsep baru yang lebih menyenangkan. untuk jawa timur, machfud mengatakan akan ada konsep baru yang berbeda. \"di jatim ini sudah ada konsep dalam menghadapi may day,\" tambahnya. konsep ini, menurut machfud yakni merayakan hari buruh tanpa emosi dan kekerasan, namun dengan aman, damai, dan suka cita. kabarnya, lebih dari seribu buruh akan melakukan teatrikal di sela aksi mereka. kendati dilakukan dengan damai, machfud menambahkan pemerintah provinsi jatim tetap akan mengusahakan apa saja tuntutan dari para pekerja. untuk itu, dia menginstruksikan massa agar lebih tertib. \"nanti tuntutan tetap diakomodir, dan disampaikan pemprov ke pusat,\"imbuhnya. ribuan massa yang tergabung dalam serikat pekerja, besok akan menggelar aksi di depan kantor gubernur jatim. aksi ini diikuti ribuan pekerja perwakilan dari beberapa daerah di jatim. (bdh/bdh)'"
      ]
     },
     "execution_count": 2,
     "metadata": {},
     "output_type": "execute_result"
    }
   ],
   "source": [
    "content = data['content']\n",
    "\n",
    "hasil_lower_case = content.lower()\n",
    "hasil_lower_case\n"
   ]
  },
  {
   "cell_type": "code",
   "execution_count": 3,
   "id": "9ed5fcde",
   "metadata": {},
   "outputs": [
    {
     "data": {
      "text/plain": [
       "'surabaya -\\nmenjelang perayaan hari buruh atau may day, kapolda jatim irjen pol machfud arifin mengimbau semua pihak untuk merayakan may day dengan suasana yang lebih menyenangkan atau fun day. \"kita sudah ada dialog mudah-mudahan may day menjadi fun day,\" ujar machfud saat cangkrukan bersama pengusaha tempat hiburan se-jatim di rumah dinas kapolda jalan bengawan surabaya, senin (//). fun day ini, tambah machfud harus disambut dengan suka cita lantaran setiap pekerja mendapatkan jatah hari libur. menurutnya, perayaan hari buruh tak harus dijalani dengan demonstrasi dan aksi saja, namun juga dilakoni dengan konsep baru yang lebih menyenangkan. untuk jawa timur, machfud mengatakan akan ada konsep baru yang berbeda. \"di jatim ini sudah ada konsep dalam menghadapi may day,\" tambahnya. konsep ini, menurut machfud yakni merayakan hari buruh tanpa emosi dan kekerasan, namun dengan aman, damai, dan suka cita. kabarnya, lebih dari seribu buruh akan melakukan teatrikal di sela aksi mereka. kendati dilakukan dengan damai, machfud menambahkan pemerintah provinsi jatim tetap akan mengusahakan apa saja tuntutan dari para pekerja. untuk itu, dia menginstruksikan massa agar lebih tertib. \"nanti tuntutan tetap diakomodir, dan disampaikan pemprov ke pusat,\"imbuhnya. ribuan massa yang tergabung dalam serikat pekerja, besok akan menggelar aksi di depan kantor gubernur jatim. aksi ini diikuti ribuan pekerja perwakilan dari beberapa daerah di jatim. (bdh/bdh)'"
      ]
     },
     "execution_count": 3,
     "metadata": {},
     "output_type": "execute_result"
    }
   ],
   "source": [
    "# Bagian kedua program\n",
    "import re\n",
    "\n",
    "# Menghapus semua angka dari teks yang telah diubah menjadi huruf kecil\n",
    "hasil_angka = re.sub(r\"\\d+\", \"\", hasil_lower_case)\n",
    "\n",
    "# Menampilkan hasil\n",
    "hasil_angka"
   ]
  },
  {
   "cell_type": "code",
   "execution_count": 4,
   "id": "82ba0892",
   "metadata": {},
   "outputs": [
    {
     "data": {
      "text/plain": [
       "'surabaya \\nmenjelang perayaan hari buruh atau may day kapolda jatim irjen pol machfud arifin mengimbau semua pihak untuk merayakan may day dengan suasana yang lebih menyenangkan atau fun day kita sudah ada dialog mudahmudahan may day menjadi fun day ujar machfud saat cangkrukan bersama pengusaha tempat hiburan sejatim di rumah dinas kapolda jalan bengawan surabaya senin  fun day ini tambah machfud harus disambut dengan suka cita lantaran setiap pekerja mendapatkan jatah hari libur menurutnya perayaan hari buruh tak harus dijalani dengan demonstrasi dan aksi saja namun juga dilakoni dengan konsep baru yang lebih menyenangkan untuk jawa timur machfud mengatakan akan ada konsep baru yang berbeda di jatim ini sudah ada konsep dalam menghadapi may day tambahnya konsep ini menurut machfud yakni merayakan hari buruh tanpa emosi dan kekerasan namun dengan aman damai dan suka cita kabarnya lebih dari seribu buruh akan melakukan teatrikal di sela aksi mereka kendati dilakukan dengan damai machfud menambahkan pemerintah provinsi jatim tetap akan mengusahakan apa saja tuntutan dari para pekerja untuk itu dia menginstruksikan massa agar lebih tertib nanti tuntutan tetap diakomodir dan disampaikan pemprov ke pusatimbuhnya ribuan massa yang tergabung dalam serikat pekerja besok akan menggelar aksi di depan kantor gubernur jatim aksi ini diikuti ribuan pekerja perwakilan dari beberapa daerah di jatim bdhbdh'"
      ]
     },
     "execution_count": 4,
     "metadata": {},
     "output_type": "execute_result"
    }
   ],
   "source": [
    "import string\n",
    "\n",
    "hasil_tanda_baca = hasil_angka.translate(str.maketrans(\"\",\"\",string.punctuation))\n",
    "hasil_tanda_baca"
   ]
  },
  {
   "cell_type": "code",
   "execution_count": 5,
   "id": "ffa775a4",
   "metadata": {},
   "outputs": [
    {
     "data": {
      "text/plain": [
       "'surabaya \\nmenjelang perayaan hari buruh atau may day kapolda jatim irjen pol machfud arifin mengimbau semua pihak untuk merayakan may day dengan suasana yang lebih menyenangkan atau fun day kita sudah ada dialog mudahmudahan may day menjadi fun day ujar machfud saat cangkrukan bersama pengusaha tempat hiburan sejatim di rumah dinas kapolda jalan bengawan surabaya senin  fun day ini tambah machfud harus disambut dengan suka cita lantaran setiap pekerja mendapatkan jatah hari libur menurutnya perayaan hari buruh tak harus dijalani dengan demonstrasi dan aksi saja namun juga dilakoni dengan konsep baru yang lebih menyenangkan untuk jawa timur machfud mengatakan akan ada konsep baru yang berbeda di jatim ini sudah ada konsep dalam menghadapi may day tambahnya konsep ini menurut machfud yakni merayakan hari buruh tanpa emosi dan kekerasan namun dengan aman damai dan suka cita kabarnya lebih dari seribu buruh akan melakukan teatrikal di sela aksi mereka kendati dilakukan dengan damai machfud menambahkan pemerintah provinsi jatim tetap akan mengusahakan apa saja tuntutan dari para pekerja untuk itu dia menginstruksikan massa agar lebih tertib nanti tuntutan tetap diakomodir dan disampaikan pemprov ke pusatimbuhnya ribuan massa yang tergabung dalam serikat pekerja besok akan menggelar aksi di depan kantor gubernur jatim aksi ini diikuti ribuan pekerja perwakilan dari beberapa daerah di jatim bdhbdh'"
      ]
     },
     "execution_count": 5,
     "metadata": {},
     "output_type": "execute_result"
    }
   ],
   "source": [
    "hasil_karakter_kosong = hasil_tanda_baca.strip()\n",
    "\n",
    "hasil_karakter_kosong"
   ]
  },
  {
   "cell_type": "code",
   "execution_count": 6,
   "id": "e4edfc98",
   "metadata": {
    "scrolled": true
   },
   "outputs": [
    {
     "data": {
      "text/plain": [
       "'surabaya menjelang perayaan hari buruh atau may day kapolda jatim irjen pol machfud arifin mengimbau semua pihak untuk merayakan may day dengan suasana yang lebih menyenangkan atau fun day kita sudah ada dialog mudahmudahan may day menjadi fun day ujar machfud saat cangkrukan bersama pengusaha tempat hiburan sejatim di rumah dinas kapolda jalan bengawan surabaya senin  fun day ini tambah machfud harus disambut dengan suka cita lantaran setiap pekerja mendapatkan jatah hari libur menurutnya perayaan hari buruh tak harus dijalani dengan demonstrasi dan aksi saja namun juga dilakoni dengan konsep baru yang lebih menyenangkan untuk jawa timur machfud mengatakan akan ada konsep baru yang berbeda di jatim ini sudah ada konsep dalam menghadapi may day tambahnya konsep ini menurut machfud yakni merayakan hari buruh tanpa emosi dan kekerasan namun dengan aman damai dan suka cita kabarnya lebih dari seribu buruh akan melakukan teatrikal di sela aksi mereka kendati dilakukan dengan damai machfud menambahkan pemerintah provinsi jatim tetap akan mengusahakan apa saja tuntutan dari para pekerja untuk itu dia menginstruksikan massa agar lebih tertib nanti tuntutan tetap diakomodir dan disampaikan pemprov ke pusatimbuhnya ribuan massa yang tergabung dalam serikat pekerja besok akan menggelar aksi di depan kantor gubernur jatim aksi ini diikuti ribuan pekerja perwakilan dari beberapa daerah di jatim bdhbdh'"
      ]
     },
     "execution_count": 6,
     "metadata": {},
     "output_type": "execute_result"
    }
   ],
   "source": [
    "teks_tanpa_baris_baru = hasil_karakter_kosong.replace('\\n','')\n",
    "teks_tanpa_baris_baru"
   ]
  },
  {
   "cell_type": "code",
   "execution_count": 7,
   "id": "07032568",
   "metadata": {},
   "outputs": [],
   "source": [
    "import nltk \n",
    "from nltk.tokenize import word_tokenize \n",
    "\n",
    "kalimat_satu = teks_tanpa_baris_baru.translate(str.maketrans('','',string.punctuation)).lower()\n",
    "\n",
    "tokenisasi_satu = nltk.tokenize.word_tokenize(kalimat_satu)"
   ]
  },
  {
   "cell_type": "code",
   "execution_count": 8,
   "id": "98ecfad9",
   "metadata": {},
   "outputs": [
    {
     "name": "stdout",
     "output_type": "stream",
     "text": [
      "['surabaya', 'menjelang', 'perayaan', 'buruh', 'may', 'day', 'kapolda', 'jatim', 'irjen', 'pol', 'machfud', 'arifin', 'mengimbau', 'merayakan', 'may', 'day', 'suasana', 'menyenangkan', 'fun', 'day', 'dialog', 'mudahmudahan', 'may', 'day', 'fun', 'day', 'machfud', 'cangkrukan', 'pengusaha', 'hiburan', 'sejatim', 'rumah', 'dinas', 'kapolda', 'jalan', 'bengawan', 'surabaya', 'senin', 'fun', 'day', 'machfud', 'disambut', 'suka', 'cita', 'lantaran', 'pekerja', 'jatah', 'libur', 'menurutnya', 'perayaan', 'buruh', 'dijalani', 'demonstrasi', 'aksi', 'dilakoni', 'konsep', 'menyenangkan', 'jawa', 'timur', 'machfud', 'konsep', 'berbeda', 'jatim', 'konsep', 'menghadapi', 'may', 'day', 'konsep', 'machfud', 'merayakan', 'buruh', 'emosi', 'kekerasan', 'aman', 'damai', 'suka', 'cita', 'kabarnya', 'seribu', 'buruh', 'teatrikal', 'aksi', 'kendati', 'damai', 'machfud', 'pemerintah', 'provinsi', 'jatim', 'mengusahakan', 'tuntutan', 'pekerja', 'menginstruksikan', 'massa', 'tertib', 'tuntutan', 'diakomodir', 'pemprov', 'pusatimbuhnya', 'ribuan', 'massa', 'tergabung', 'serikat', 'pekerja', 'besok', 'menggelar', 'aksi', 'kantor', 'gubernur', 'jatim', 'aksi', 'diikuti', 'ribuan', 'pekerja', 'perwakilan', 'daerah', 'jatim', 'bdhbdh']\n"
     ]
    }
   ],
   "source": [
    "from nltk.tokenize import sent_tokenize, word_tokenize\n",
    "from nltk.corpus import stopwords\n",
    "import string\n",
    "\n",
    "# Hasil dari program dua\n",
    "kalimat_satu = ' '.join(tokenisasi_satu)  # Menggabungkan hasil program dua menjadi satu kalimat\n",
    "kalimat_satu = kalimat_satu.translate(str.maketrans('', '', string.punctuation)).lower()\n",
    "\n",
    "listStopword = set(stopwords.words('Indonesian'))\n",
    "\n",
    "removed = []\n",
    "for t in word_tokenize(kalimat_satu):\n",
    "    if t not in listStopword:\n",
    "        removed.append(t)\n",
    "\n",
    "print(removed)\n"
   ]
  },
  {
   "cell_type": "code",
   "execution_count": 9,
   "id": "827810e3",
   "metadata": {},
   "outputs": [
    {
     "name": "stdout",
     "output_type": "stream",
     "text": [
      "['surabaya', 'menjelang', 'perayaan', 'buruh', 'may', 'day', 'kapolda', 'jatim', 'irjen', 'pol', 'machfud', 'arifin', 'mengimbau', 'merayakan', 'may', 'day', 'suasana', 'menyenangkan', 'fun', 'day', 'dialog', 'mudahmudahan', 'may', 'day', 'fun', 'day', 'machfud', 'cangkrukan', 'pengusaha', 'hiburan', 'sejatim', 'rumah', 'dinas', 'kapolda', 'jalan', 'bengawan', 'surabaya', 'senin', 'fun', 'day', 'machfud', 'disambut', 'suka', 'cita', 'lantaran', 'pekerja', 'jatah', 'libur', 'menurutnya', 'perayaan', 'buruh', 'dijalani', 'demonstrasi', 'aksi', 'dilakoni', 'konsep', 'menyenangkan', 'jawa', 'timur', 'machfud', 'konsep', 'berbeda', 'jatim', 'konsep', 'menghadapi', 'may', 'day', 'konsep', 'machfud', 'merayakan', 'buruh', 'emosi', 'kekerasan', 'aman', 'damai', 'suka', 'cita', 'kabarnya', 'seribu', 'buruh', 'teatrikal', 'aksi', 'kendati', 'damai', 'machfud', 'pemerintah', 'provinsi', 'jatim', 'mengusahakan', 'tuntutan', 'pekerja', 'menginstruksikan', 'massa', 'tertib', 'tuntutan', 'diakomodir', 'pemprov', 'pusatimbuhnya', 'ribuan', 'massa', 'tergabung', 'serikat', 'pekerja', 'besok', 'menggelar', 'aksi', 'kantor', 'gubernur', 'jatim', 'aksi', 'diikuti', 'ribuan', 'pekerja', 'perwakilan', 'daerah', 'jatim', 'bdhbdh']\n"
     ]
    }
   ],
   "source": [
    "from Sastrawi.StopWordRemover.StopWordRemoverFactory import StopWordRemoverFactory\n",
    "from nltk.tokenize import word_tokenize\n",
    "import string\n",
    "\n",
    "factory = StopWordRemoverFactory()\n",
    "stopword = factory.create_stop_word_remover()\n",
    "\n",
    "# Hasil dari program tiga\n",
    "kalimat_tiga = ' '.join(removed)  # Menggabungkan hasil program tiga menjadi satu kalimat\n",
    "kalimat_empat = kalimat_tiga.translate(str.maketrans('', '', string.punctuation)).lower()\n",
    "\n",
    "stop = stopword.remove(kalimat_empat)\n",
    "tokens_dua = word_tokenize(stop)\n",
    "\n",
    "print(tokens_dua)\n"
   ]
  },
  {
   "cell_type": "code",
   "execution_count": 10,
   "id": "436d352c",
   "metadata": {
    "scrolled": true
   },
   "outputs": [
    {
     "name": "stdout",
     "output_type": "stream",
     "text": [
      "['surabaya', 'menjelang', 'perayaan', 'buruh', 'may', 'day', 'kapolda', 'jatim', 'irjen', 'pol', 'machfud', 'arifin', 'mengimbau', 'merayakan', 'may', 'day', 'suasana', 'menyenangkan', 'fun', 'day', 'dialog', 'mudahmudahan', 'may', 'day', 'fun', 'day', 'machfud', 'cangkrukan', 'pengusaha', 'hiburan', 'sejatim', 'rumah', 'dinas', 'kapolda', 'jalan', 'bengawan', 'surabaya', 'senin', 'fun', 'day', 'machfud', 'disambut', 'suka', 'cita', 'lantaran', 'pekerja', 'jatah', 'libur', 'menurutnya', 'perayaan', 'buruh', 'dijalani', 'demonstrasi', 'aksi', 'dilakoni', 'konsep', 'menyenangkan', 'jawa', 'timur', 'machfud', 'konsep', 'berbeda', 'jatim', 'konsep', 'menghadapi', 'may', 'day', 'konsep', 'machfud', 'merayakan', 'buruh', 'emosi', 'kekerasan', 'aman', 'damai', 'suka', 'cita', 'kabarnya', 'seribu', 'buruh', 'teatrikal', 'aksi', 'kendati', 'damai', 'machfud', 'pemerintah', 'provinsi', 'jatim', 'mengusahakan', 'tuntutan', 'pekerja', 'menginstruksikan', 'massa', 'tertib', 'tuntutan', 'diakomodir', 'pemprov', 'pusatimbuhnya', 'ribuan', 'massa', 'tergabung', 'serikat', 'pekerja', 'besok', 'menggelar', 'aksi', 'kantor', 'gubernur', 'jatim', 'aksi', 'diikuti', 'ribuan', 'pekerja', 'perwakilan', 'daerah', 'jatim', 'bdhbdh']\n"
     ]
    }
   ],
   "source": [
    "from Sastrawi.StopWordRemover.StopWordRemoverFactory import StopWordRemoverFactory, StopWordRemover, ArrayDictionary\n",
    "from nltk.tokenize import word_tokenize\n",
    "import string\n",
    "\n",
    "# Hasil dari program empat\n",
    "kalimat_empat = ' '.join(tokens_dua)  # Menggabungkan hasil program empat menjadi satu kalimat\n",
    "kalimat_lima = kalimat_empat.translate(str.maketrans('', '', string.punctuation)).lower()\n",
    "\n",
    "# Ambil stopword bawaan dan tambahkan stopword tambahan\n",
    "stop_factory = StopWordRemoverFactory().get_stop_words()\n",
    "more_stopword = ['daring', 'online']\n",
    "data = stop_factory + more_stopword\n",
    "\n",
    "dictionary = ArrayDictionary(data)\n",
    "str = StopWordRemover(dictionary)\n",
    "tokens = word_tokenize(str.remove(kalimat_lima))\n",
    "\n",
    "print(tokens)\n"
   ]
  },
  {
   "cell_type": "code",
   "execution_count": 16,
   "id": "ef9bd536",
   "metadata": {},
   "outputs": [
    {
     "data": {
      "text/plain": [
       "'surabaya jelang raya hari buruh atau may day kapolda jatim irjen pol machfud arifin imbau semua pihak untuk raya may day dengan suasana yang lebih senang atau fun day kita sudah ada dialog mudahmudahan may day jadi fun day ujar machfud saat cangkrukan sama usaha tempat hibur sejatim di rumah dinas kapolda jalan bengawan surabaya senin fun day ini tambah machfud harus sambut dengan suka cita lantar tiap kerja dapat jatah hari libur turut raya hari buruh tak harus jalan dengan demonstrasi dan aksi saja namun juga lakon dengan konsep baru yang lebih senang untuk jawa timur machfud kata akan ada konsep baru yang beda di jatim ini sudah ada konsep dalam hadap may day tambah konsep ini turut machfud yakni raya hari buruh tanpa emosi dan keras namun dengan aman damai dan suka cita kabar lebih dari ribu buruh akan laku teatrikal di sela aksi mereka kendati laku dengan damai machfud tambah perintah provinsi jatim tetap akan usaha apa saja tuntut dari para kerja untuk itu dia instruksi massa agar lebih tertib nanti tuntut tetap diakomodir dan sampai pemprov ke pusatimbuhnya ribu massa yang gabung dalam serikat kerja besok akan gelar aksi di depan kantor gubernur jatim aksi ini ikut ribu kerja wakil dari beberapa daerah di jatim bdhbdh'"
      ]
     },
     "execution_count": 16,
     "metadata": {},
     "output_type": "execute_result"
    }
   ],
   "source": [
    "from Sastrawi.Stemmer.StemmerFactory import StemmerFactory\n",
    "factory = StemmerFactory()\n",
    "stemmer = factory.create_stemmer()\n",
    "\n",
    "hasil = stemmer.stem(teks_tanpa_baris_baru)\n",
    "hasil"
   ]
  },
  {
   "cell_type": "code",
   "execution_count": null,
   "id": "c79058a5",
   "metadata": {},
   "outputs": [],
   "source": []
  }
 ],
 "metadata": {
  "kernelspec": {
   "display_name": "Python 3 (ipykernel)",
   "language": "python",
   "name": "python3"
  },
  "language_info": {
   "codemirror_mode": {
    "name": "ipython",
    "version": 3
   },
   "file_extension": ".py",
   "mimetype": "text/x-python",
   "name": "python",
   "nbconvert_exporter": "python",
   "pygments_lexer": "ipython3",
   "version": "3.10.9"
  }
 },
 "nbformat": 4,
 "nbformat_minor": 5
}
