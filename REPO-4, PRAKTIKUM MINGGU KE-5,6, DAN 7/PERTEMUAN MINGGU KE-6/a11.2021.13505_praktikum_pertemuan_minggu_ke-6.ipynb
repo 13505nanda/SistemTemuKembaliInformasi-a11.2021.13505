{
 "cells": [
  {
   "cell_type": "code",
   "execution_count": 3,
   "id": "d8127810",
   "metadata": {},
   "outputs": [
    {
     "name": "stdout",
     "output_type": "stream",
     "text": [
      "v_target: [0. 0. 0. 0. 0. 1.]\n",
      "hidden_layer_sg: [0.15599452 0.96990985 0.52475643]\n",
      "o_revenge: 1.5088086744185838\n"
     ]
    }
   ],
   "source": [
    "import numpy as np\n",
    "\n",
    "# Kata yang ingin direpresentasikan\n",
    "target_word = \"revenge\"\n",
    "context_words = [\"the\", \"quick\", \"brown\", \"fox\", \"jumps\", target_word]  # Menambahkan target_word ke daftar context_words\n",
    "\n",
    "# Inisialisasi vektor kata target\n",
    "v_target = np.zeros(len(context_words))\n",
    "v_target[context_words.index(target_word)] = 1\n",
    "\n",
    "# Inisialisasi matriks bobot dengan nilai acak (gunakan nilai seed jika diperlukan)\n",
    "np.random.seed(42)\n",
    "vocab_size = len(context_words)\n",
    "embedding_dim = 3\n",
    "weight = np.random.rand(embedding_dim, vocab_size)  # Perubahan ukuran matriks bobot\n",
    "\n",
    "# Matriks bobot kedua\n",
    "weight_prime = np.random.rand(vocab_size, embedding_dim)  # Perubahan ukuran matriks bobot\n",
    "\n",
    "# Perhitungan hidden layer menggunakan Skip-Gram\n",
    "hidden_layer_sg = np.dot(weight, v_target)\n",
    "\n",
    "# Perhitungan vektor output\n",
    "o_revenge = np.dot(weight_prime[context_words.index(target_word)], hidden_layer_sg)  # Menggunakan matriks bobot kedua yang sesuai dengan kata target\n",
    "\n",
    "print(\"v_target:\", v_target)\n",
    "print(\"hidden_layer_sg:\", hidden_layer_sg)\n",
    "print(\"o_revenge:\", o_revenge)\n"
   ]
  },
  {
   "cell_type": "code",
   "execution_count": 5,
   "id": "00f8ef17",
   "metadata": {},
   "outputs": [
    {
     "name": "stdout",
     "output_type": "stream",
     "text": [
      "v_target: [0. 0. 0. 0. 0. 1.]\n",
      "hidden_layer_cbow: [0.18340451 0.30424224 0.52475643]\n",
      "o_the: 0.5055362997891666\n"
     ]
    }
   ],
   "source": [
    "import numpy as np\n",
    "\n",
    "# Kata yang ingin direpresentasikan\n",
    "target_word = \"the\"\n",
    "context_words = [\"revenge\", \"quick\", \"brown\", \"fox\", \"jumps\", target_word]  # Menambahkan target_word ke daftar context_words\n",
    "\n",
    "# Inisialisasi vektor kata target\n",
    "v_target = np.zeros(len(context_words))\n",
    "v_target[context_words.index(target_word)] = 1\n",
    "\n",
    "# Inisialisasi matriks bobot dengan nilai acak (gunakan nilai seed jika diperlukan)\n",
    "np.random.seed(42)\n",
    "vocab_size = len(context_words)\n",
    "embedding_dim = 3\n",
    "weight = np.random.rand(vocab_size, embedding_dim)\n",
    "\n",
    "# Matriks bobot kedua\n",
    "weight_prime = np.random.rand(embedding_dim, vocab_size)\n",
    "\n",
    "# Perhitungan hidden layer menggunakan CBOW\n",
    "hidden_layer_cbow = np.dot(v_target, weight)\n",
    "\n",
    "# Perhitungan vektor output\n",
    "o_the = np.dot(weight_prime[:, context_words.index(target_word)], hidden_layer_cbow)  # Menggunakan matriks bobot kedua yang sesuai dengan kata target\n",
    "\n",
    "print(\"v_target:\", v_target)\n",
    "print(\"hidden_layer_cbow:\", hidden_layer_cbow)\n",
    "print(\"o_the:\", o_the)\n"
   ]
  },
  {
   "cell_type": "code",
   "execution_count": null,
   "id": "46d417c9",
   "metadata": {},
   "outputs": [],
   "source": []
  }
 ],
 "metadata": {
  "kernelspec": {
   "display_name": "Python 3 (ipykernel)",
   "language": "python",
   "name": "python3"
  },
  "language_info": {
   "codemirror_mode": {
    "name": "ipython",
    "version": 3
   },
   "file_extension": ".py",
   "mimetype": "text/x-python",
   "name": "python",
   "nbconvert_exporter": "python",
   "pygments_lexer": "ipython3",
   "version": "3.10.9"
  }
 },
 "nbformat": 4,
 "nbformat_minor": 5
}
